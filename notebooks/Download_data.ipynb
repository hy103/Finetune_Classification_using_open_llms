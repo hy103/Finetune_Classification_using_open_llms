{
 "cells": [
  {
   "cell_type": "code",
   "execution_count": 14,
   "id": "abded462-0254-4899-8115-336f4d861dce",
   "metadata": {},
   "outputs": [
    {
     "name": "stdout",
     "output_type": "stream",
     "text": [
      "Number of entries : 1100\n"
     ]
    }
   ],
   "source": [
    "import json\n",
    "import os\n",
    "import urllib\n",
    "\n",
    "def download_and_load_file(file_path, url):\n",
    "    if not os.path.exists(file_path):\n",
    "        with urllib.request.urlopen(url) as response:\n",
    "            print(response)\n",
    "            text_data = response.read().decode(\"utf-8\")\n",
    "        with open(file_path, \"w\", encoding = \"utf-8\") as file:\n",
    "            file.write(text_data)\n",
    "\n",
    "    else: \n",
    "        with open(file_path, \"r\", encoding = \"utf-8\") as file:\n",
    "            text_data = file.read()\n",
    "        with open(file_path, \"r\") as file:\n",
    "            data = json.load(file)\n",
    "        return data\n",
    "\n",
    "file_path = \"instruction-data.json\"\n",
    "url = (\"https://raw.githubusercontent.com/rasbt/LLMs-from-scratch/main/ch07/01_main-chapter-code/instruction-data.json\")\n",
    "\n",
    "data =  download_and_load_file(file_path, url)\n",
    "print(\"Number of entries :\", len(data))\n",
    "\n",
    "    "
   ]
  },
  {
   "cell_type": "code",
   "execution_count": 45,
   "id": "1cb6f532-58e6-49ef-b708-94d4c0bed654",
   "metadata": {},
   "outputs": [],
   "source": [
    "def format_input(entry):\n",
    "    instruction_text= (\n",
    "        f\"Below is an instruction that describes a task. \"\n",
    "        f\"Write a response that appropriately completes thes request.\\n\"\n",
    "        f\"\\n ### Instruction:\\n {entry['instruction']}\")\n",
    "\n",
    "    input_text=(\n",
    "        f\"\\n\\n ### Input:\\n {entry['input']}\" if entry['input'] else \"\")\n",
    "    return instruction_text+ input_text\n",
    "\n"
   ]
  },
  {
   "cell_type": "code",
   "execution_count": 47,
   "id": "aac48e2e-2591-41d0-bbf3-b543446be04e",
   "metadata": {},
   "outputs": [
    {
     "name": "stdout",
     "output_type": "stream",
     "text": [
      "Below is an instruction that describes a task. Write a response that appropriately completes thes request.\n",
      "\n",
      " ### Instruction:\n",
      " Identify the correct spelling of the following word.\n",
      "\n",
      " ### Input:\n",
      " Ocassion\n",
      "\n",
      " ### Response:\n",
      " The correct spelling is 'Occasion.'\n"
     ]
    }
   ],
   "source": [
    "sample_input = format_input(data[50])\n",
    "desired_response = f\"\\n\\n ### Response:\\n {data[50]['output']}\"\n",
    "print(sample_input+desired_response)"
   ]
  },
  {
   "cell_type": "code",
   "execution_count": null,
   "id": "eaba494c-189a-4d81-8877-42ca9a496cc1",
   "metadata": {},
   "outputs": [],
   "source": []
  }
 ],
 "metadata": {
  "kernelspec": {
   "display_name": "Python 3 (ipykernel)",
   "language": "python",
   "name": "python3"
  },
  "language_info": {
   "codemirror_mode": {
    "name": "ipython",
    "version": 3
   },
   "file_extension": ".py",
   "mimetype": "text/x-python",
   "name": "python",
   "nbconvert_exporter": "python",
   "pygments_lexer": "ipython3",
   "version": "3.11.6"
  }
 },
 "nbformat": 4,
 "nbformat_minor": 5
}
