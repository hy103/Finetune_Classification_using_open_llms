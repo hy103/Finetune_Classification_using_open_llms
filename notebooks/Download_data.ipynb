{
 "cells": [
  {
   "cell_type": "code",
   "execution_count": 5,
   "id": "abded462-0254-4899-8115-336f4d861dce",
   "metadata": {},
   "outputs": [
    {
     "name": "stdout",
     "output_type": "stream",
     "text": [
      "Number of entries : 1100\n"
     ]
    }
   ],
   "source": [
    "import json\n",
    "import os\n",
    "import urllib\n",
    "\n",
    "def download_and_load_file(file_path, url):\n",
    "    if not os.path.exists(file_path):\n",
    "        with urllib.request.urlopen(url) as response:\n",
    "            print(response)\n",
    "            text_data = response.read().decode(\"utf-8\")\n",
    "        with open(file_path, \"w\", encoding = \"utf-8\") as file:\n",
    "            file.write(text_data)\n",
    "\n",
    "    else: \n",
    "        with open(file_path, \"r\", encoding = \"utf-8\") as file:\n",
    "            text_data = file.read()\n",
    "        with open(file_path, \"r\") as file:\n",
    "            data = json.load(file)\n",
    "        return data\n",
    "\n",
    "file_path = \"instruction-data.json\"\n",
    "url = (\"https://raw.githubusercontent.com/rasbt/LLMs-from-scratch/main/ch07/01_main-chapter-code/instruction-data.json\")\n",
    "\n",
    "data =  download_and_load_file(file_path, url)\n",
    "print(\"Number of entries :\", len(data))\n",
    "\n",
    "    "
   ]
  },
  {
   "cell_type": "code",
   "execution_count": 6,
   "id": "1cb6f532-58e6-49ef-b708-94d4c0bed654",
   "metadata": {},
   "outputs": [],
   "source": [
    "def format_input(entry):\n",
    "    instruction_text= (\n",
    "        f\"Below is an instruction that describes a task. \"\n",
    "        f\"Write a response that appropriately completes thes request.\\n\"\n",
    "        f\"\\n ### Instruction:\\n {entry['instruction']}\")\n",
    "\n",
    "    input_text=(\n",
    "        f\"\\n\\n ### Input:\\n {entry['input']}\" if entry['input'] else \"\")\n",
    "    return instruction_text+ input_text\n",
    "\n"
   ]
  },
  {
   "cell_type": "code",
   "execution_count": 7,
   "id": "aac48e2e-2591-41d0-bbf3-b543446be04e",
   "metadata": {},
   "outputs": [
    {
     "name": "stdout",
     "output_type": "stream",
     "text": [
      "Below is an instruction that describes a task. Write a response that appropriately completes thes request.\n",
      "\n",
      " ### Instruction:\n",
      " Identify the correct spelling of the following word.\n",
      "\n",
      " ### Input:\n",
      " Ocassion\n",
      "\n",
      " ### Response:\n",
      " The correct spelling is 'Occasion.'\n"
     ]
    }
   ],
   "source": [
    "sample_input = format_input(data[50])\n",
    "desired_response = f\"\\n\\n ### Response:\\n {data[50]['output']}\"\n",
    "print(sample_input+desired_response)"
   ]
  },
  {
   "cell_type": "code",
   "execution_count": 8,
   "id": "eaba494c-189a-4d81-8877-42ca9a496cc1",
   "metadata": {},
   "outputs": [
    {
     "name": "stdout",
     "output_type": "stream",
     "text": [
      "Training set length: 935\n",
      "Validation set length: 3\n",
      "Test set length: 110\n"
     ]
    }
   ],
   "source": [
    "train_portion = int(len(data)*0.85)\n",
    "test_portion = int(len(data)*0.1)\n",
    "val_portion = len(data) - train_portion - test_portion \n",
    "\n",
    "train_data = data[:train_portion]\n",
    "test_data = data[train_portion: train_portion+test_portion]\n",
    "val_data = data[train_portion + test_portion]\n",
    "\n",
    "print(\"Training set length:\",len(train_data))\n",
    "print(\"Validation set length:\",len(val_data))\n",
    "print(\"Test set length:\",len(test_data))"
   ]
  },
  {
   "cell_type": "markdown",
   "id": "9029e40d",
   "metadata": {},
   "source": [
    "### Creating Dataset"
   ]
  },
  {
   "cell_type": "code",
   "execution_count": 9,
   "id": "eb121e3b",
   "metadata": {},
   "outputs": [],
   "source": [
    "import torch\n",
    "from torch.utils.data import Dataset, DataLoader\n",
    "\n",
    "class InstructionDataset(Dataset):\n",
    "    def __init__(self, data, tokenizer):\n",
    "        self.data = data\n",
    "        self.encoded_text = []\n",
    "\n",
    "        for entry in data :\n",
    "            instruction_plus_input = format_input(entry)\n",
    "            response_text = f\"\\n\\n ### Response: \\n {entry['output']}\"\n",
    "            full_text = instruction_plus_input+response_text\n",
    "            self.encoded_text.append(tokenizer.encode(full_text))\n",
    "\n",
    "    def __getitem__(self, index):\n",
    "        return self.encoded_text[index]\n",
    "    \n",
    "    def __len__(self):\n",
    "        return len(self.data)"
   ]
  },
  {
   "cell_type": "code",
   "execution_count": 40,
   "id": "a75bd0d8",
   "metadata": {},
   "outputs": [],
   "source": [
    "def custom_collate_draft_1(batch, pad_token_id = 50256, device = \"cpu\"):\n",
    "    batch_max_lenght = max(len(item) for item in batch)\n",
    "    inputs_lst = []\n",
    "    for item in batch:\n",
    "        new_item = item.copy()\n",
    "        #new_item+= [pad_token_id]\n",
    "        print(f\" length of the batch : {len(new_item)}\")\n",
    "        print(f\"Difference : {batch_max_lenght - len(new_item)}\")\n",
    "        \n",
    "        padded = (\n",
    "            new_item+([pad_token_id]*(batch_max_lenght - len(new_item)))\n",
    "        )\n",
    "        print(padded)\n",
    "\n",
    "        inputs = torch.tensor(padded)\n",
    "        print(f\"inputs : {inputs}\")\n",
    "        inputs_lst.append(inputs)\n",
    "\n",
    "    print(len(inputs_lst))\n",
    "    inputs_tensor = torch.stack(inputs_lst).to(device)\n",
    "    return inputs_tensor"
   ]
  },
  {
   "cell_type": "code",
   "execution_count": 43,
   "id": "0fbadc12",
   "metadata": {},
   "outputs": [
    {
     "name": "stdout",
     "output_type": "stream",
     "text": [
      " length of the batch : 5\n",
      "Difference : 0\n",
      "[0, 1, 2, 3, 4]\n",
      "inputs : tensor([0, 1, 2, 3, 4])\n",
      " length of the batch : 2\n",
      "Difference : 3\n",
      "[5, 6, 50256, 50256, 50256]\n",
      "inputs : tensor([    5,     6, 50256, 50256, 50256])\n",
      " length of the batch : 4\n",
      "Difference : 1\n",
      "[5, 2, 4, 1, 50256]\n",
      "inputs : tensor([    5,     2,     4,     1, 50256])\n",
      "3\n",
      "tensor([[    0,     1,     2,     3,     4],\n",
      "        [    5,     6, 50256, 50256, 50256],\n",
      "        [    5,     2,     4,     1, 50256]])\n"
     ]
    }
   ],
   "source": [
    "inputs_1 = [0,1,2,3,4]\n",
    "inputs_2 = [5,6]\n",
    "inputs_3 = [5,2,4,1]\n",
    "batch = (inputs_1,\n",
    "         inputs_2,\n",
    "         inputs_3)\n",
    "\n",
    "print(custom_collate_draft_1(batch))"
   ]
  },
  {
   "cell_type": "code",
   "execution_count": 48,
   "id": "7b4956b5",
   "metadata": {},
   "outputs": [
    {
     "name": "stdout",
     "output_type": "stream",
     "text": [
      "tensor([[    0,     1,     2,     3,     4],\n",
      "        [    5,     6, 50256, 50256, 50256],\n",
      "        [    5,     2,     4,     1, 50256]])\n",
      "tensor([[    1,     2,     3,     4, 50256],\n",
      "        [    6, 50256, 50256, 50256, 50256],\n",
      "        [    2,     4,     1, 50256, 50256]])\n"
     ]
    }
   ],
   "source": [
    "def custom_collate_draft_2(\n",
    "        batch, \n",
    "        pad_token_id = 50256,\n",
    "        device = \"cpu\"\n",
    "):\n",
    "    batch_max_lenght = max(len(item) for item in batch)\n",
    "    inputs_lst, targets_lst = [], []\n",
    "\n",
    "    for item in batch:\n",
    "        new_item = item.copy()\n",
    "\n",
    "        padded = (\n",
    "            new_item+([pad_token_id]*(batch_max_lenght - len(new_item)))\n",
    "        )\n",
    "        inputs = torch.tensor(padded)\n",
    "        targets = torch.tensor(padded[1:] + [pad_token_id])\n",
    "\n",
    "        inputs_lst.append(inputs)\n",
    "        targets_lst.append(targets)\n",
    "\n",
    "    inputs_tensor = torch.stack(inputs_lst).to(device)\n",
    "    targets_tensor = torch.stack(targets_lst).to(device)\n",
    "\n",
    "    return inputs_tensor, targets_tensor\n",
    "\n",
    "inputs_1 = [0,1,2,3,4]\n",
    "inputs_2 = [5,6]\n",
    "inputs_3 = [5,2,4,1]\n",
    "batch = (inputs_1,\n",
    "         inputs_2,\n",
    "         inputs_3)\n",
    "inputs, targets = custom_collate_draft_2(batch)\n",
    "\n",
    "print(inputs)\n",
    "print(targets)"
   ]
  },
  {
   "cell_type": "code",
   "execution_count": 68,
   "id": "91e0c084",
   "metadata": {},
   "outputs": [
    {
     "name": "stdout",
     "output_type": "stream",
     "text": [
      "Number of non zero elements in indices are 1\n",
      "Number of non zero elements in indices are 4\n",
      "tensor([2, 3, 4])\n",
      "tensor(-100)\n",
      "tensor(-100)\n",
      "tensor(-100)\n",
      "tensor([    6, 50256,  -100,  -100,  -100])\n",
      "Number of non zero elements in indices are 2\n",
      "tensor([4])\n",
      "tensor(-100)\n",
      "tensor([    2,     4,     1, 50256,  -100])\n"
     ]
    }
   ],
   "source": [
    "def custom_collate_draft_2(\n",
    "        batch, \n",
    "        pad_token_id = 50256,\n",
    "        ignore_index = -100,\n",
    "        allowed_max_length = None,\n",
    "        device = \"cpu\"\n",
    "):\n",
    "    batch_max_lenght = max(len(item) for item in batch)\n",
    "    inputs_lst, targets_lst = [], []\n",
    "\n",
    "    for item in batch:\n",
    "        new_item = item.copy()\n",
    "        padded = (\n",
    "            new_item+([pad_token_id]*(batch_max_lenght - len(new_item)))\n",
    "        )\n",
    "        inputs = torch.tensor(padded)\n",
    "        targets = torch.tensor(padded[1:] + [pad_token_id])\n",
    "        \n",
    "        mask = targets == pad_token_id\n",
    "        indices = torch.nonzero(mask).squeeze()\n",
    "   \n",
    "        ## If condition checks if there more than 1 non zero index indicating\n",
    "        ## mpore th\n",
    "        if indices.numel()>1:\n",
    "            targets[indices[1:]] = ignore_index\n",
    "        if allowed_max_length is not None:\n",
    "            inputs = inputs[:allowed_max_length]\n",
    "            targets = targets[:allowed_max_length]\n",
    "\n",
    "        inputs_lst.append(inputs)\n",
    "        targets_lst.append(targets)\n",
    "\n",
    "    inputs_tensor = torch.stack(inputs_lst).to(device)\n",
    "    targets_tensor = torch.stack(targets_lst).to(device)\n",
    "\n",
    "    return inputs_tensor, targets_tensor\n",
    "\n",
    "inputs_1 = [0,1,2,3,4]\n",
    "inputs_2 = [5,6]\n",
    "inputs_3 = [5,2,4,1]\n",
    "batch = (inputs_1,\n",
    "         inputs_2,\n",
    "         inputs_3)\n",
    "inputs, targets = custom_collate_draft_2(batch)\n",
    "\n",
    "#print(inputs)\n",
    "#print(targets)"
   ]
  },
  {
   "cell_type": "code",
   "execution_count": null,
   "id": "cf667c3a",
   "metadata": {},
   "outputs": [],
   "source": []
  },
  {
   "cell_type": "code",
   "execution_count": null,
   "id": "ba99d9e5",
   "metadata": {},
   "outputs": [],
   "source": []
  },
  {
   "cell_type": "code",
   "execution_count": 11,
   "id": "bf88e27c",
   "metadata": {},
   "outputs": [],
   "source": [
    "import tiktoken\n",
    "tokenizer = tiktoken.get_encoding(\"gpt2\")\n"
   ]
  },
  {
   "cell_type": "code",
   "execution_count": 10,
   "id": "dfd6c5e7",
   "metadata": {},
   "outputs": [
    {
     "ename": "TypeError",
     "evalue": "__init__() missing 2 required positional arguments: 'data' and 'tokenizer'",
     "output_type": "error",
     "traceback": [
      "\u001b[0;31m---------------------------------------------------------------------------\u001b[0m",
      "\u001b[0;31mTypeError\u001b[0m                                 Traceback (most recent call last)",
      "\u001b[1;32m/Users/harshayarravarapu/Documents/GitHub/Finetune_Classification_using_open_llms/notebooks/Download_data.ipynb Cell 8\u001b[0m line \u001b[0;36m1\n\u001b[0;32m----> <a href='vscode-notebook-cell:/Users/harshayarravarapu/Documents/GitHub/Finetune_Classification_using_open_llms/notebooks/Download_data.ipynb#X11sZmlsZQ%3D%3D?line=0'>1</a>\u001b[0m instruction_data \u001b[39m=\u001b[39m InstructionDataset()\n",
      "\u001b[0;31mTypeError\u001b[0m: __init__() missing 2 required positional arguments: 'data' and 'tokenizer'"
     ]
    }
   ],
   "source": [
    "instruction_data = InstructionDataset(train_data, tokenizer)"
   ]
  },
  {
   "cell_type": "code",
   "execution_count": null,
   "id": "4dd84077",
   "metadata": {},
   "outputs": [],
   "source": []
  }
 ],
 "metadata": {
  "kernelspec": {
   "display_name": "Python 3.10 (tensorflow)",
   "language": "python",
   "name": "tensorflow"
  },
  "language_info": {
   "codemirror_mode": {
    "name": "ipython",
    "version": 3
   },
   "file_extension": ".py",
   "mimetype": "text/x-python",
   "name": "python",
   "nbconvert_exporter": "python",
   "pygments_lexer": "ipython3",
   "version": "3.9.6"
  }
 },
 "nbformat": 4,
 "nbformat_minor": 5
}
